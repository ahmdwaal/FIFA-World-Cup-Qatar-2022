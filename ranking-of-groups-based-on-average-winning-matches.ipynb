{
 "cells": [
  {
   "cell_type": "markdown",
   "id": "10b36f21",
   "metadata": {
    "papermill": {
     "duration": 0.006686,
     "end_time": "2022-11-20T08:53:13.322951",
     "exception": false,
     "start_time": "2022-11-20T08:53:13.316265",
     "status": "completed"
    },
    "tags": []
   },
   "source": [
    "**In this notebook we will forecast the ranking of groups For the FIFA World Cup Qatar 2022 based on average match wins in official matches from 1872 to 2022**"
   ]
  },
  {
   "cell_type": "code",
   "execution_count": 1,
   "id": "5d48134e",
   "metadata": {
    "_cell_guid": "b1076dfc-b9ad-4769-8c92-a6c4dae69d19",
    "_uuid": "8f2839f25d086af736a60e9eeb907d3b93b6e0e5",
    "execution": {
     "iopub.execute_input": "2022-11-20T08:53:13.336650Z",
     "iopub.status.busy": "2022-11-20T08:53:13.335846Z",
     "iopub.status.idle": "2022-11-20T08:53:13.424230Z",
     "shell.execute_reply": "2022-11-20T08:53:13.422791Z"
    },
    "papermill": {
     "duration": 0.098059,
     "end_time": "2022-11-20T08:53:13.427503",
     "exception": false,
     "start_time": "2022-11-20T08:53:13.329444",
     "status": "completed"
    },
    "tags": []
   },
   "outputs": [],
   "source": [
    "import pandas as pd #getting pandas \n",
    "\n",
    "groups_df = pd.read_csv('/kaggle/input/soccer-world-cup-challenge/2022_world_cup_groups.csv')\n",
    "#Groups DataFrame\n",
    "im_df = pd.read_csv('/kaggle/input/soccer-world-cup-challenge/international_matches.csv')\n",
    "#International Matches DataFrame"
   ]
  },
  {
   "cell_type": "markdown",
   "id": "ef103485",
   "metadata": {
    "papermill": {
     "duration": 0.004465,
     "end_time": "2022-11-20T08:53:13.436895",
     "exception": false,
     "start_time": "2022-11-20T08:53:13.432430",
     "status": "completed"
    },
    "tags": []
   },
   "source": [
    "### This section we will cheak the data quality"
   ]
  },
  {
   "cell_type": "markdown",
   "id": "9addeec9",
   "metadata": {
    "papermill": {
     "duration": 0.0043,
     "end_time": "2022-11-20T08:53:13.445815",
     "exception": false,
     "start_time": "2022-11-20T08:53:13.441515",
     "status": "completed"
    },
    "tags": []
   },
   "source": []
  },
  {
   "cell_type": "code",
   "execution_count": 2,
   "id": "77491b5b",
   "metadata": {
    "execution": {
     "iopub.execute_input": "2022-11-20T08:53:13.457692Z",
     "iopub.status.busy": "2022-11-20T08:53:13.456954Z",
     "iopub.status.idle": "2022-11-20T08:53:13.487076Z",
     "shell.execute_reply": "2022-11-20T08:53:13.486167Z"
    },
    "papermill": {
     "duration": 0.039551,
     "end_time": "2022-11-20T08:53:13.490027",
     "exception": false,
     "start_time": "2022-11-20T08:53:13.450476",
     "status": "completed"
    },
    "tags": []
   },
   "outputs": [
    {
     "data": {
      "text/html": [
       "<div>\n",
       "<style scoped>\n",
       "    .dataframe tbody tr th:only-of-type {\n",
       "        vertical-align: middle;\n",
       "    }\n",
       "\n",
       "    .dataframe tbody tr th {\n",
       "        vertical-align: top;\n",
       "    }\n",
       "\n",
       "    .dataframe thead th {\n",
       "        text-align: right;\n",
       "    }\n",
       "</style>\n",
       "<table border=\"1\" class=\"dataframe\">\n",
       "  <thead>\n",
       "    <tr style=\"text-align: right;\">\n",
       "      <th></th>\n",
       "      <th>Group</th>\n",
       "      <th>Team</th>\n",
       "      <th>FIFA Ranking</th>\n",
       "    </tr>\n",
       "  </thead>\n",
       "  <tbody>\n",
       "    <tr>\n",
       "      <th>0</th>\n",
       "      <td>A</td>\n",
       "      <td>Qatar</td>\n",
       "      <td>50</td>\n",
       "    </tr>\n",
       "    <tr>\n",
       "      <th>1</th>\n",
       "      <td>A</td>\n",
       "      <td>Ecuador</td>\n",
       "      <td>44</td>\n",
       "    </tr>\n",
       "    <tr>\n",
       "      <th>2</th>\n",
       "      <td>A</td>\n",
       "      <td>Senegal</td>\n",
       "      <td>18</td>\n",
       "    </tr>\n",
       "    <tr>\n",
       "      <th>3</th>\n",
       "      <td>A</td>\n",
       "      <td>Netherlands</td>\n",
       "      <td>8</td>\n",
       "    </tr>\n",
       "    <tr>\n",
       "      <th>4</th>\n",
       "      <td>B</td>\n",
       "      <td>England</td>\n",
       "      <td>5</td>\n",
       "    </tr>\n",
       "  </tbody>\n",
       "</table>\n",
       "</div>"
      ],
      "text/plain": [
       "  Group         Team  FIFA Ranking\n",
       "0     A        Qatar            50\n",
       "1     A      Ecuador            44\n",
       "2     A      Senegal            18\n",
       "3     A  Netherlands             8\n",
       "4     B      England             5"
      ]
     },
     "execution_count": 2,
     "metadata": {},
     "output_type": "execute_result"
    }
   ],
   "source": [
    "groups_df.head()"
   ]
  },
  {
   "cell_type": "code",
   "execution_count": 3,
   "id": "857dd0da",
   "metadata": {
    "execution": {
     "iopub.execute_input": "2022-11-20T08:53:13.502911Z",
     "iopub.status.busy": "2022-11-20T08:53:13.501689Z",
     "iopub.status.idle": "2022-11-20T08:53:13.527943Z",
     "shell.execute_reply": "2022-11-20T08:53:13.525973Z"
    },
    "papermill": {
     "duration": 0.035646,
     "end_time": "2022-11-20T08:53:13.530860",
     "exception": false,
     "start_time": "2022-11-20T08:53:13.495214",
     "status": "completed"
    },
    "tags": []
   },
   "outputs": [
    {
     "name": "stdout",
     "output_type": "stream",
     "text": [
      "<class 'pandas.core.frame.DataFrame'>\n",
      "RangeIndex: 32 entries, 0 to 31\n",
      "Data columns (total 3 columns):\n",
      " #   Column        Non-Null Count  Dtype \n",
      "---  ------        --------------  ----- \n",
      " 0   Group         32 non-null     object\n",
      " 1   Team          32 non-null     object\n",
      " 2   FIFA Ranking  32 non-null     int64 \n",
      "dtypes: int64(1), object(2)\n",
      "memory usage: 896.0+ bytes\n"
     ]
    }
   ],
   "source": [
    "groups_df.info()"
   ]
  },
  {
   "cell_type": "markdown",
   "id": "24400f99",
   "metadata": {
    "papermill": {
     "duration": 0.005145,
     "end_time": "2022-11-20T08:53:13.541771",
     "exception": false,
     "start_time": "2022-11-20T08:53:13.536626",
     "status": "completed"
    },
    "tags": []
   },
   "source": [
    ">#### Groups DataFrame is Clear"
   ]
  },
  {
   "cell_type": "code",
   "execution_count": 4,
   "id": "6748b845",
   "metadata": {
    "execution": {
     "iopub.execute_input": "2022-11-20T08:53:13.556140Z",
     "iopub.status.busy": "2022-11-20T08:53:13.555706Z",
     "iopub.status.idle": "2022-11-20T08:53:13.563207Z",
     "shell.execute_reply": "2022-11-20T08:53:13.561684Z"
    },
    "papermill": {
     "duration": 0.018346,
     "end_time": "2022-11-20T08:53:13.566266",
     "exception": false,
     "start_time": "2022-11-20T08:53:13.547920",
     "status": "completed"
    },
    "tags": []
   },
   "outputs": [],
   "source": [
    "\"\"\"\n",
    "This Function will convert the columns name to lower case and convert white spaces between\n",
    "the words to underscore\n",
    "\"\"\"\n",
    "def fix_cols_names (df):\n",
    "    df.rename(lambda x: x.lower().strip().replace(' ', '_'), axis='columns', inplace=True)"
   ]
  },
  {
   "cell_type": "code",
   "execution_count": 5,
   "id": "14d71053",
   "metadata": {
    "execution": {
     "iopub.execute_input": "2022-11-20T08:53:13.579480Z",
     "iopub.status.busy": "2022-11-20T08:53:13.579019Z",
     "iopub.status.idle": "2022-11-20T08:53:13.585224Z",
     "shell.execute_reply": "2022-11-20T08:53:13.584033Z"
    },
    "papermill": {
     "duration": 0.015834,
     "end_time": "2022-11-20T08:53:13.588012",
     "exception": false,
     "start_time": "2022-11-20T08:53:13.572178",
     "status": "completed"
    },
    "tags": []
   },
   "outputs": [],
   "source": [
    "fix_cols_names(groups_df)\n",
    "fix_cols_names(im_df)"
   ]
  },
  {
   "cell_type": "code",
   "execution_count": 6,
   "id": "ff5ce1f1",
   "metadata": {
    "execution": {
     "iopub.execute_input": "2022-11-20T08:53:13.600868Z",
     "iopub.status.busy": "2022-11-20T08:53:13.600389Z",
     "iopub.status.idle": "2022-11-20T08:53:13.619550Z",
     "shell.execute_reply": "2022-11-20T08:53:13.617955Z"
    },
    "papermill": {
     "duration": 0.028781,
     "end_time": "2022-11-20T08:53:13.622288",
     "exception": false,
     "start_time": "2022-11-20T08:53:13.593507",
     "status": "completed"
    },
    "tags": []
   },
   "outputs": [
    {
     "data": {
      "text/html": [
       "<div>\n",
       "<style scoped>\n",
       "    .dataframe tbody tr th:only-of-type {\n",
       "        vertical-align: middle;\n",
       "    }\n",
       "\n",
       "    .dataframe tbody tr th {\n",
       "        vertical-align: top;\n",
       "    }\n",
       "\n",
       "    .dataframe thead th {\n",
       "        text-align: right;\n",
       "    }\n",
       "</style>\n",
       "<table border=\"1\" class=\"dataframe\">\n",
       "  <thead>\n",
       "    <tr style=\"text-align: right;\">\n",
       "      <th></th>\n",
       "      <th>id</th>\n",
       "      <th>tournament</th>\n",
       "      <th>date</th>\n",
       "      <th>home_team</th>\n",
       "      <th>home_goals</th>\n",
       "      <th>away_goals</th>\n",
       "      <th>away_team</th>\n",
       "      <th>winning_team</th>\n",
       "      <th>losing_team</th>\n",
       "      <th>win_conditions</th>\n",
       "      <th>home_stadium</th>\n",
       "    </tr>\n",
       "  </thead>\n",
       "  <tbody>\n",
       "    <tr>\n",
       "      <th>0</th>\n",
       "      <td>1</td>\n",
       "      <td>Friendly</td>\n",
       "      <td>1872-11-30</td>\n",
       "      <td>Scotland</td>\n",
       "      <td>0</td>\n",
       "      <td>0</td>\n",
       "      <td>England</td>\n",
       "      <td>NaN</td>\n",
       "      <td>NaN</td>\n",
       "      <td>NaN</td>\n",
       "      <td>True</td>\n",
       "    </tr>\n",
       "    <tr>\n",
       "      <th>1</th>\n",
       "      <td>2</td>\n",
       "      <td>Friendly</td>\n",
       "      <td>1873-03-08</td>\n",
       "      <td>England</td>\n",
       "      <td>4</td>\n",
       "      <td>2</td>\n",
       "      <td>Scotland</td>\n",
       "      <td>England</td>\n",
       "      <td>Scotland</td>\n",
       "      <td>NaN</td>\n",
       "      <td>True</td>\n",
       "    </tr>\n",
       "    <tr>\n",
       "      <th>2</th>\n",
       "      <td>3</td>\n",
       "      <td>Friendly</td>\n",
       "      <td>1874-03-07</td>\n",
       "      <td>Scotland</td>\n",
       "      <td>2</td>\n",
       "      <td>1</td>\n",
       "      <td>England</td>\n",
       "      <td>Scotland</td>\n",
       "      <td>England</td>\n",
       "      <td>NaN</td>\n",
       "      <td>True</td>\n",
       "    </tr>\n",
       "    <tr>\n",
       "      <th>3</th>\n",
       "      <td>4</td>\n",
       "      <td>Friendly</td>\n",
       "      <td>1875-03-06</td>\n",
       "      <td>England</td>\n",
       "      <td>2</td>\n",
       "      <td>2</td>\n",
       "      <td>Scotland</td>\n",
       "      <td>NaN</td>\n",
       "      <td>NaN</td>\n",
       "      <td>NaN</td>\n",
       "      <td>True</td>\n",
       "    </tr>\n",
       "    <tr>\n",
       "      <th>4</th>\n",
       "      <td>5</td>\n",
       "      <td>Friendly</td>\n",
       "      <td>1876-03-04</td>\n",
       "      <td>Scotland</td>\n",
       "      <td>3</td>\n",
       "      <td>0</td>\n",
       "      <td>England</td>\n",
       "      <td>Scotland</td>\n",
       "      <td>England</td>\n",
       "      <td>NaN</td>\n",
       "      <td>True</td>\n",
       "    </tr>\n",
       "  </tbody>\n",
       "</table>\n",
       "</div>"
      ],
      "text/plain": [
       "   id tournament        date home_team  home_goals  away_goals away_team  \\\n",
       "0   1   Friendly  1872-11-30  Scotland           0           0   England   \n",
       "1   2   Friendly  1873-03-08   England           4           2  Scotland   \n",
       "2   3   Friendly  1874-03-07  Scotland           2           1   England   \n",
       "3   4   Friendly  1875-03-06   England           2           2  Scotland   \n",
       "4   5   Friendly  1876-03-04  Scotland           3           0   England   \n",
       "\n",
       "  winning_team losing_team win_conditions  home_stadium  \n",
       "0          NaN         NaN            NaN          True  \n",
       "1      England    Scotland            NaN          True  \n",
       "2     Scotland     England            NaN          True  \n",
       "3          NaN         NaN            NaN          True  \n",
       "4     Scotland     England            NaN          True  "
      ]
     },
     "execution_count": 6,
     "metadata": {},
     "output_type": "execute_result"
    }
   ],
   "source": [
    "im_df.head()"
   ]
  },
  {
   "cell_type": "markdown",
   "id": "52e27cbf",
   "metadata": {
    "papermill": {
     "duration": 0.005179,
     "end_time": "2022-11-20T08:53:13.634948",
     "exception": false,
     "start_time": "2022-11-20T08:53:13.629769",
     "status": "completed"
    },
    "tags": []
   },
   "source": [
    "#### The International Matches DataFrame has missing values in winning_team column which expresses a tie we will left it and we will delete the friendly matches"
   ]
  },
  {
   "cell_type": "markdown",
   "id": "02ad8dcd",
   "metadata": {
    "papermill": {
     "duration": 0.005174,
     "end_time": "2022-11-20T08:53:13.645683",
     "exception": false,
     "start_time": "2022-11-20T08:53:13.640509",
     "status": "completed"
    },
    "tags": []
   },
   "source": []
  },
  {
   "cell_type": "code",
   "execution_count": 7,
   "id": "a593e2d2",
   "metadata": {
    "execution": {
     "iopub.execute_input": "2022-11-20T08:53:13.659319Z",
     "iopub.status.busy": "2022-11-20T08:53:13.658822Z",
     "iopub.status.idle": "2022-11-20T08:53:13.676911Z",
     "shell.execute_reply": "2022-11-20T08:53:13.675493Z"
    },
    "papermill": {
     "duration": 0.028414,
     "end_time": "2022-11-20T08:53:13.679798",
     "exception": false,
     "start_time": "2022-11-20T08:53:13.651384",
     "status": "completed"
    },
    "tags": []
   },
   "outputs": [
    {
     "data": {
      "text/plain": [
       "id                    0\n",
       "tournament            0\n",
       "date                  0\n",
       "home_team             0\n",
       "home_goals            0\n",
       "away_goals            0\n",
       "away_team             0\n",
       "winning_team       4170\n",
       "losing_team        4170\n",
       "win_conditions    17568\n",
       "home_stadium          0\n",
       "dtype: int64"
      ]
     },
     "execution_count": 7,
     "metadata": {},
     "output_type": "execute_result"
    }
   ],
   "source": [
    "im_df.isna().sum()"
   ]
  },
  {
   "cell_type": "code",
   "execution_count": 8,
   "id": "36403ad2",
   "metadata": {
    "execution": {
     "iopub.execute_input": "2022-11-20T08:53:13.692907Z",
     "iopub.status.busy": "2022-11-20T08:53:13.692444Z",
     "iopub.status.idle": "2022-11-20T08:53:13.711469Z",
     "shell.execute_reply": "2022-11-20T08:53:13.710045Z"
    },
    "papermill": {
     "duration": 0.029349,
     "end_time": "2022-11-20T08:53:13.714829",
     "exception": false,
     "start_time": "2022-11-20T08:53:13.685480",
     "status": "completed"
    },
    "tags": []
   },
   "outputs": [
    {
     "data": {
      "text/plain": [
       "id                   0\n",
       "tournament           0\n",
       "date                 0\n",
       "home_team            0\n",
       "home_goals           0\n",
       "away_goals           0\n",
       "away_team            0\n",
       "winning_team      2249\n",
       "losing_team       2249\n",
       "win_conditions    9719\n",
       "home_stadium         0\n",
       "dtype: int64"
      ]
     },
     "execution_count": 8,
     "metadata": {},
     "output_type": "execute_result"
    }
   ],
   "source": [
    "im_df = im_df[im_df['tournament'] != 'Friendly']#filter the friendly matches\n",
    "im_df.isna().sum()"
   ]
  },
  {
   "cell_type": "markdown",
   "id": "3bbde1ca",
   "metadata": {
    "papermill": {
     "duration": 0.005986,
     "end_time": "2022-11-20T08:53:13.726791",
     "exception": false,
     "start_time": "2022-11-20T08:53:13.720805",
     "status": "completed"
    },
    "tags": []
   },
   "source": [
    "### Data now is ready for our prediction"
   ]
  },
  {
   "cell_type": "markdown",
   "id": "ac9fec9d",
   "metadata": {
    "papermill": {
     "duration": 0.005301,
     "end_time": "2022-11-20T08:53:13.737961",
     "exception": false,
     "start_time": "2022-11-20T08:53:13.732660",
     "status": "completed"
    },
    "tags": []
   },
   "source": []
  },
  {
   "cell_type": "code",
   "execution_count": 9,
   "id": "71108d24",
   "metadata": {
    "execution": {
     "iopub.execute_input": "2022-11-20T08:53:13.752371Z",
     "iopub.status.busy": "2022-11-20T08:53:13.751856Z",
     "iopub.status.idle": "2022-11-20T08:53:13.761208Z",
     "shell.execute_reply": "2022-11-20T08:53:13.759918Z"
    },
    "papermill": {
     "duration": 0.020025,
     "end_time": "2022-11-20T08:53:13.763706",
     "exception": false,
     "start_time": "2022-11-20T08:53:13.743681",
     "status": "completed"
    },
    "tags": []
   },
   "outputs": [
    {
     "data": {
      "text/plain": [
       "array(['A', 'B', 'C', 'D', 'E', 'F', 'G', 'H'], dtype=object)"
      ]
     },
     "execution_count": 9,
     "metadata": {},
     "output_type": "execute_result"
    }
   ],
   "source": [
    "groups = groups_df['group'].unique()\n",
    "groups\n",
    "#here we get Groups to fillter Groups DataFrame with it to deal with each group Separately"
   ]
  },
  {
   "cell_type": "code",
   "execution_count": 10,
   "id": "44572b8e",
   "metadata": {
    "execution": {
     "iopub.execute_input": "2022-11-20T08:53:13.778234Z",
     "iopub.status.busy": "2022-11-20T08:53:13.777751Z",
     "iopub.status.idle": "2022-11-20T08:53:13.923324Z",
     "shell.execute_reply": "2022-11-20T08:53:13.921347Z"
    },
    "papermill": {
     "duration": 0.15648,
     "end_time": "2022-11-20T08:53:13.926420",
     "exception": false,
     "start_time": "2022-11-20T08:53:13.769940",
     "status": "completed"
    },
    "tags": []
   },
   "outputs": [
    {
     "name": "stdout",
     "output_type": "stream",
     "text": [
      "group A\n",
      "1 Netherlands\n",
      "2 Senegal\n",
      "3 Qatar\n",
      "4 Ecuador\n",
      "\n",
      "group B\n",
      "1 Iran\n",
      "2 England\n",
      "3 United States\n",
      "4 Wales\n",
      "\n",
      "group C\n",
      "1 Mexico\n",
      "2 Argentina\n",
      "3 Saudi Arabia\n",
      "4 Poland\n",
      "\n",
      "group D\n",
      "1 Australia\n",
      "2 France\n",
      "3 Denmark\n",
      "4 Tunisia\n",
      "\n",
      "group E\n",
      "1 Germany\n",
      "2 Spain\n",
      "3 Japan\n",
      "4 Costa Rica\n",
      "\n",
      "group F\n",
      "1 Croatia\n",
      "2 Belgium\n",
      "3 Morocco\n",
      "4 Canada\n",
      "\n",
      "group G\n",
      "1 Brazil\n",
      "2 Cameroon\n",
      "3 Serbia\n",
      "4 Switzerland\n",
      "\n",
      "group H\n",
      "1 South Korea\n",
      "2 Portugal\n",
      "3 Ghana\n",
      "4 Uruguay\n",
      "\n"
     ]
    }
   ],
   "source": [
    "for group in groups:#loop on Groups DataFrame With group to deal with each group Separately\n",
    "    teams = groups_df[groups_df['group'] == group].team.unique()#Getting each group teams\n",
    "    print('group',group)#print the group we working with\n",
    "    dic = {} #this dictionary to hold each team and its avverage wining\n",
    "    for team in teams:#this loop to count avverage wining for each team in the group\n",
    "        all_matches = im_df[(im_df['home_team'] == team)|(im_df['away_team'] == team)].id.count()\n",
    "        win_matches = im_df[im_df['winning_team'] == team].id.count()\n",
    "        \"\"\"the above to lines I filtterd the international mathes data frame to get all \n",
    "        matches for a team and the total wining matches to count the aveage winning\"\"\"\n",
    "        avv_win = win_matches/all_matches\n",
    "        dic[team] = avv_win #append the team name and its avvrage winning to the dictionary\n",
    "    sorted_dic = sorted(dic.items() , key = lambda x:x[1], reverse=True)#sort the dictionary\n",
    "    for ind,team in enumerate(sorted_dic):#this loop print the ranked group\n",
    "        print(ind+1,team[0])\n",
    "    print()"
   ]
  },
  {
   "cell_type": "code",
   "execution_count": null,
   "id": "caaa872b",
   "metadata": {
    "papermill": {
     "duration": 0.005656,
     "end_time": "2022-11-20T08:53:13.938211",
     "exception": false,
     "start_time": "2022-11-20T08:53:13.932555",
     "status": "completed"
    },
    "tags": []
   },
   "outputs": [],
   "source": []
  }
 ],
 "metadata": {
  "kernelspec": {
   "display_name": "Python 3",
   "language": "python",
   "name": "python3"
  },
  "language_info": {
   "codemirror_mode": {
    "name": "ipython",
    "version": 3
   },
   "file_extension": ".py",
   "mimetype": "text/x-python",
   "name": "python",
   "nbconvert_exporter": "python",
   "pygments_lexer": "ipython3",
   "version": "3.7.12"
  },
  "papermill": {
   "default_parameters": {},
   "duration": 13.318694,
   "end_time": "2022-11-20T08:53:16.751037",
   "environment_variables": {},
   "exception": null,
   "input_path": "__notebook__.ipynb",
   "output_path": "__notebook__.ipynb",
   "parameters": {},
   "start_time": "2022-11-20T08:53:03.432343",
   "version": "2.3.4"
  }
 },
 "nbformat": 4,
 "nbformat_minor": 5
}
